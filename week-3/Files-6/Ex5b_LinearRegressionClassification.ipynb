{
 "cells": [
  {
   "cell_type": "markdown",
   "id": "90dca708-e45b-4213-87cc-7a77c794aff1",
   "metadata": {},
   "source": [
    "# Example 5A: Classification with Linear Regression and One-Hot Encoding\n",
    "\n",
    "A fundamental problem with ordinal encoding is that it imposes an order on the categories. Not all categories have an order to them, so it would be incorrect for a case that is ambiguous between class 0 and class 2 to be categorized as class 1. \n",
    "\n",
    "One-hot encoding allows us to avoid this issue. \n",
    "\n",
    "## How It Works\n",
    "\n",
    "1. **Identify Unique Categories**: Determine all unique categories within the categorical variable.\n",
    "2. **Create Binary Vectors**: For each category, identify a dimension in a vector. \n",
    "3. **Encode Presence of Category**: If a label corresponds to a dimension, place a `1` in that dimension of the vector. For all other entries in the vector, place a `0`.\n",
    "\n",
    "## Example\n",
    "\n",
    "Consider a \"Color\" column with values Red, Blue, and Green.\n",
    "\n",
    "- Original Data and Encoding:\n",
    "\n",
    "  | Color | One-Hot Representation |\n",
    "  |-------|-------|\n",
    "  | Red   | [1, 0, 0] |\n",
    "  | Blue  | [0, 1, 0] |\n",
    "  | Green | [0, 0, 1] |\n",
    "  | Red   | [1, 0, 0] |\n",
    "\n",
    "\n",
    "## Advantages\n",
    "\n",
    "- **ML Algorithm Compatibility**: Transforms categorical data into a machine learning-friendly numeric format.\n",
    "- **Interpretability**: The encoded data format is clear and easy to understand.\n",
    "\n",
    "## Considerations\n",
    "\n",
    "- **Increased Dimensionality**: May significantly expand the number of features in the dataset.\n",
    "- **Sparse Matrix**: Results in a matrix mostly filled with zeros, which can be storage and computation inefficient."
   ]
  },
  {
   "cell_type": "code",
   "execution_count": 18,
   "id": "e95bbe8d-e5bb-41ba-af22-9af38431929f",
   "metadata": {},
   "outputs": [],
   "source": [
    "# Standard imports \n",
    "import numpy as np\n",
    "import pandas as pd\n",
    "import matplotlib.pyplot as plt\n",
    "import seaborn as sn\n",
    "import statsmodels.api as sm\n",
    "\n",
    "# Required for modeling and evaluation\n",
    "from sklearn.linear_model import LinearRegression\n",
    "from sklearn.model_selection import train_test_split\n",
    "from sklearn.preprocessing import OneHotEncoder\n",
    "from sklearn.metrics import accuracy_score, confusion_matrix, precision_score, recall_score, ConfusionMatrixDisplay"
   ]
  },
  {
   "cell_type": "markdown",
   "id": "09dfc525-c33e-4991-b708-21eece2aa0e3",
   "metadata": {},
   "source": [
    "We will use a very similar dataset as Example 5a."
   ]
  },
  {
   "cell_type": "code",
   "execution_count": 2,
   "id": "c22210be-0047-4e37-9d81-3a9b93afe914",
   "metadata": {},
   "outputs": [],
   "source": [
    "np.random.seed(5)\n",
    "\n",
    "# Generate synthetic data\n",
    "size_per_class = 100\n",
    "x1_0 = np.random.uniform(0, 5, size_per_class) + np.random.normal(0, 1, 100)\n",
    "x2_0 = np.random.uniform(0, 10, size_per_class)\n",
    "\n",
    "x1_1 = np.random.uniform(5, 10, size_per_class) + np.random.normal(0, 1, 100)\n",
    "x2_1 = np.random.uniform(0, 10, size_per_class)\n",
    "\n",
    "x1_2 = np.random.uniform(10, 15, size_per_class) + np.random.normal(0, 1, 100)\n",
    "x2_2 = np.random.uniform(0, 10, size_per_class)\n",
    "\n",
    "# Combine data\n",
    "x1 = np.concatenate([x1_0, x1_1, x1_2])\n",
    "x2 = np.concatenate([x2_0, x2_1, x2_2])\n",
    "y = np.array([0]*size_per_class + [1]*size_per_class + [2]*size_per_class)\n",
    "\n",
    "# Create DataFrame\n",
    "data = pd.DataFrame({'X1': x1, 'X2': x2, 'Y': y})\n",
    "\n",
    "# Splitting data into training and testing sets\n",
    "X_train, X_test, Y_train, Y_test = train_test_split(data[['X1', 'X2']], data['Y'], test_size=0.2, random_state=5)"
   ]
  },
  {
   "cell_type": "markdown",
   "id": "6ccc3b46-8877-49a6-9a4b-ec066e6cec21",
   "metadata": {},
   "source": [
    "Scikit-Learn makes one-hot encoding a straightforward process. "
   ]
  },
  {
   "cell_type": "code",
   "execution_count": 12,
   "id": "775a8d77-3389-48bc-90f3-f956305749ca",
   "metadata": {},
   "outputs": [],
   "source": [
    "# One-Hot Encoding the target variable\n",
    "encoder = OneHotEncoder(sparse_output=False)\n",
    "Y_train_encoded = encoder.fit_transform(Y_train.values.reshape(-1, 1))\n",
    "Y_test_encoded = encoder.transform(Y_test.values.reshape(-1, 1))"
   ]
  },
  {
   "cell_type": "code",
   "execution_count": 13,
   "id": "e6793ebe",
   "metadata": {},
   "outputs": [
    {
     "data": {
      "text/plain": [
       "array([[0., 1., 0.],\n",
       "       [0., 1., 0.],\n",
       "       [1., 0., 0.],\n",
       "       [0., 0., 1.],\n",
       "       [1., 0., 0.],\n",
       "       [0., 1., 0.],\n",
       "       [0., 1., 0.],\n",
       "       [0., 1., 0.],\n",
       "       [0., 0., 1.],\n",
       "       [1., 0., 0.],\n",
       "       [0., 1., 0.],\n",
       "       [0., 1., 0.],\n",
       "       [0., 1., 0.],\n",
       "       [0., 0., 1.],\n",
       "       [1., 0., 0.],\n",
       "       [1., 0., 0.],\n",
       "       [0., 1., 0.],\n",
       "       [0., 0., 1.],\n",
       "       [1., 0., 0.],\n",
       "       [0., 0., 1.],\n",
       "       [0., 0., 1.],\n",
       "       [1., 0., 0.],\n",
       "       [1., 0., 0.],\n",
       "       [0., 0., 1.],\n",
       "       [0., 1., 0.],\n",
       "       [1., 0., 0.],\n",
       "       [1., 0., 0.],\n",
       "       [1., 0., 0.],\n",
       "       [1., 0., 0.],\n",
       "       [1., 0., 0.],\n",
       "       [0., 0., 1.],\n",
       "       [0., 1., 0.],\n",
       "       [1., 0., 0.],\n",
       "       [0., 0., 1.],\n",
       "       [1., 0., 0.],\n",
       "       [0., 0., 1.],\n",
       "       [0., 0., 1.],\n",
       "       [0., 0., 1.],\n",
       "       [1., 0., 0.],\n",
       "       [0., 0., 1.],\n",
       "       [0., 1., 0.],\n",
       "       [0., 1., 0.],\n",
       "       [0., 1., 0.],\n",
       "       [1., 0., 0.],\n",
       "       [0., 0., 1.],\n",
       "       [0., 0., 1.],\n",
       "       [1., 0., 0.],\n",
       "       [0., 1., 0.],\n",
       "       [0., 0., 1.],\n",
       "       [1., 0., 0.],\n",
       "       [0., 0., 1.],\n",
       "       [1., 0., 0.],\n",
       "       [1., 0., 0.],\n",
       "       [0., 0., 1.],\n",
       "       [1., 0., 0.],\n",
       "       [1., 0., 0.],\n",
       "       [0., 1., 0.],\n",
       "       [1., 0., 0.],\n",
       "       [1., 0., 0.],\n",
       "       [0., 1., 0.],\n",
       "       [1., 0., 0.],\n",
       "       [0., 0., 1.],\n",
       "       [0., 0., 1.],\n",
       "       [0., 0., 1.],\n",
       "       [0., 1., 0.],\n",
       "       [0., 0., 1.],\n",
       "       [0., 1., 0.],\n",
       "       [0., 1., 0.],\n",
       "       [0., 1., 0.],\n",
       "       [0., 0., 1.],\n",
       "       [0., 0., 1.],\n",
       "       [0., 1., 0.],\n",
       "       [0., 1., 0.],\n",
       "       [0., 1., 0.],\n",
       "       [0., 0., 1.],\n",
       "       [1., 0., 0.],\n",
       "       [0., 0., 1.],\n",
       "       [1., 0., 0.],\n",
       "       [1., 0., 0.],\n",
       "       [0., 1., 0.],\n",
       "       [0., 1., 0.],\n",
       "       [0., 0., 1.],\n",
       "       [0., 0., 1.],\n",
       "       [0., 1., 0.],\n",
       "       [0., 0., 1.],\n",
       "       [0., 0., 1.],\n",
       "       [0., 1., 0.],\n",
       "       [0., 0., 1.],\n",
       "       [1., 0., 0.],\n",
       "       [1., 0., 0.],\n",
       "       [1., 0., 0.],\n",
       "       [0., 0., 1.],\n",
       "       [0., 1., 0.],\n",
       "       [1., 0., 0.],\n",
       "       [0., 0., 1.],\n",
       "       [0., 1., 0.],\n",
       "       [1., 0., 0.],\n",
       "       [0., 1., 0.],\n",
       "       [0., 0., 1.],\n",
       "       [0., 0., 1.],\n",
       "       [0., 1., 0.],\n",
       "       [0., 1., 0.],\n",
       "       [1., 0., 0.],\n",
       "       [0., 1., 0.],\n",
       "       [1., 0., 0.],\n",
       "       [0., 1., 0.],\n",
       "       [0., 1., 0.],\n",
       "       [0., 0., 1.],\n",
       "       [0., 0., 1.],\n",
       "       [1., 0., 0.],\n",
       "       [0., 1., 0.],\n",
       "       [0., 0., 1.],\n",
       "       [0., 0., 1.],\n",
       "       [1., 0., 0.],\n",
       "       [0., 0., 1.],\n",
       "       [0., 0., 1.],\n",
       "       [0., 1., 0.],\n",
       "       [0., 1., 0.],\n",
       "       [1., 0., 0.],\n",
       "       [0., 0., 1.],\n",
       "       [1., 0., 0.],\n",
       "       [0., 1., 0.],\n",
       "       [0., 1., 0.],\n",
       "       [0., 1., 0.],\n",
       "       [1., 0., 0.],\n",
       "       [0., 0., 1.],\n",
       "       [1., 0., 0.],\n",
       "       [0., 1., 0.],\n",
       "       [1., 0., 0.],\n",
       "       [0., 1., 0.],\n",
       "       [1., 0., 0.],\n",
       "       [1., 0., 0.],\n",
       "       [1., 0., 0.],\n",
       "       [1., 0., 0.],\n",
       "       [0., 0., 1.],\n",
       "       [1., 0., 0.],\n",
       "       [0., 1., 0.],\n",
       "       [1., 0., 0.],\n",
       "       [0., 1., 0.],\n",
       "       [1., 0., 0.],\n",
       "       [0., 1., 0.],\n",
       "       [1., 0., 0.],\n",
       "       [1., 0., 0.],\n",
       "       [0., 1., 0.],\n",
       "       [1., 0., 0.],\n",
       "       [0., 0., 1.],\n",
       "       [0., 1., 0.],\n",
       "       [1., 0., 0.],\n",
       "       [0., 1., 0.],\n",
       "       [0., 1., 0.],\n",
       "       [0., 0., 1.],\n",
       "       [0., 0., 1.],\n",
       "       [0., 0., 1.],\n",
       "       [0., 1., 0.],\n",
       "       [0., 1., 0.],\n",
       "       [0., 0., 1.],\n",
       "       [0., 0., 1.],\n",
       "       [1., 0., 0.],\n",
       "       [0., 0., 1.],\n",
       "       [0., 0., 1.],\n",
       "       [0., 0., 1.],\n",
       "       [0., 1., 0.],\n",
       "       [1., 0., 0.],\n",
       "       [0., 0., 1.],\n",
       "       [0., 1., 0.],\n",
       "       [0., 1., 0.],\n",
       "       [0., 0., 1.],\n",
       "       [0., 1., 0.],\n",
       "       [1., 0., 0.],\n",
       "       [1., 0., 0.],\n",
       "       [0., 0., 1.],\n",
       "       [0., 0., 1.],\n",
       "       [0., 1., 0.],\n",
       "       [0., 1., 0.],\n",
       "       [0., 1., 0.],\n",
       "       [0., 1., 0.],\n",
       "       [0., 1., 0.],\n",
       "       [0., 1., 0.],\n",
       "       [0., 0., 1.],\n",
       "       [1., 0., 0.],\n",
       "       [1., 0., 0.],\n",
       "       [1., 0., 0.],\n",
       "       [1., 0., 0.],\n",
       "       [0., 0., 1.],\n",
       "       [1., 0., 0.],\n",
       "       [1., 0., 0.],\n",
       "       [1., 0., 0.],\n",
       "       [0., 0., 1.],\n",
       "       [1., 0., 0.],\n",
       "       [0., 0., 1.],\n",
       "       [1., 0., 0.],\n",
       "       [0., 1., 0.],\n",
       "       [0., 1., 0.],\n",
       "       [1., 0., 0.],\n",
       "       [1., 0., 0.],\n",
       "       [0., 1., 0.],\n",
       "       [0., 1., 0.],\n",
       "       [0., 1., 0.],\n",
       "       [0., 0., 1.],\n",
       "       [0., 1., 0.],\n",
       "       [0., 1., 0.],\n",
       "       [0., 0., 1.],\n",
       "       [0., 1., 0.],\n",
       "       [0., 1., 0.],\n",
       "       [0., 0., 1.],\n",
       "       [0., 0., 1.],\n",
       "       [0., 1., 0.],\n",
       "       [0., 1., 0.],\n",
       "       [0., 1., 0.],\n",
       "       [0., 0., 1.],\n",
       "       [1., 0., 0.],\n",
       "       [0., 1., 0.],\n",
       "       [0., 1., 0.],\n",
       "       [0., 0., 1.],\n",
       "       [1., 0., 0.],\n",
       "       [0., 1., 0.],\n",
       "       [0., 0., 1.],\n",
       "       [0., 1., 0.],\n",
       "       [0., 1., 0.],\n",
       "       [1., 0., 0.],\n",
       "       [1., 0., 0.],\n",
       "       [1., 0., 0.],\n",
       "       [0., 0., 1.],\n",
       "       [0., 0., 1.],\n",
       "       [1., 0., 0.],\n",
       "       [1., 0., 0.],\n",
       "       [1., 0., 0.],\n",
       "       [0., 1., 0.],\n",
       "       [0., 0., 1.],\n",
       "       [1., 0., 0.],\n",
       "       [0., 0., 1.],\n",
       "       [0., 1., 0.],\n",
       "       [0., 1., 0.],\n",
       "       [0., 0., 1.],\n",
       "       [0., 0., 1.],\n",
       "       [1., 0., 0.],\n",
       "       [1., 0., 0.],\n",
       "       [0., 1., 0.],\n",
       "       [0., 1., 0.],\n",
       "       [0., 0., 1.]])"
      ]
     },
     "execution_count": 13,
     "metadata": {},
     "output_type": "execute_result"
    }
   ],
   "source": [
    "Y_train_encoded"
   ]
  },
  {
   "cell_type": "markdown",
   "id": "a79c2e84-3b19-4355-a8ea-7928c9bdfd80",
   "metadata": {},
   "source": [
    "A side effect of using a one-hot encoding means that we are performing linear regression for each dimension in the vectors. That is, we perform linear regression for every category where each regression determines if a point is or is not in the category. "
   ]
  },
  {
   "cell_type": "code",
   "execution_count": 14,
   "id": "9685d5b2-1de3-419c-bcbc-4d9aa66682ed",
   "metadata": {},
   "outputs": [
    {
     "name": "stdout",
     "output_type": "stream",
     "text": [
      "[[-0.08867408 -0.00321765]\n",
      " [ 0.0071617   0.006935  ]\n",
      " [ 0.08151238 -0.00371735]]\n",
      "[ 0.99874339  0.26729511 -0.2660385 ]\n"
     ]
    }
   ],
   "source": [
    "# Create and fit the linear regression model\n",
    "model = LinearRegression()\n",
    "model.fit(X_train, Y_train_encoded)\n",
    "\n",
    "# Compute coefficients\n",
    "coef = model.coef_\n",
    "intercept = model.intercept_\n",
    "print(coef)\n",
    "print(intercept)"
   ]
  },
  {
   "cell_type": "markdown",
   "id": "75593ed7-ebb7-4e79-bbaa-6438cfd46120",
   "metadata": {},
   "source": [
    "Despite the several functions, prediction is very straightforward. "
   ]
  },
  {
   "cell_type": "code",
   "execution_count": 15,
   "id": "ba09aa5a-003e-4225-84de-053b02146f25",
   "metadata": {},
   "outputs": [],
   "source": [
    "# Predict on the testing set\n",
    "Y_pred = model.predict(X_test)\n",
    "Y_pred_classes = np.argmax(Y_pred, axis=1)"
   ]
  },
  {
   "cell_type": "markdown",
   "id": "70acc3c6-53ae-4f29-9e22-a5c18f45f506",
   "metadata": {},
   "source": [
    "As with example 5A, we can compute a confusion matrix and look at both precision and recall. Notice that we do not perform as well as our other model in 5A. What are some reasons why this may be happening?"
   ]
  },
  {
   "cell_type": "code",
   "execution_count": 20,
   "id": "3fc6fb3e-3867-4de4-b516-70f5ec1dca43",
   "metadata": {},
   "outputs": [
    {
     "data": {
      "image/png": "[encoded data removed]",
      "text/plain": [
       "<Figure size 640x480 with 2 Axes>"
      ]
     },
     "metadata": {},
     "output_type": "display_data"
    },
    {
     "name": "stdout",
     "output_type": "stream",
     "text": [
      "Accuracy: 0.7833333333333333\n",
      "Macro Precision: 0.8501602564102564\n",
      "Macro Recall: 0.7111111111111111\n",
      "Weighted Precision: 0.8319310897435898\n",
      "Weighted Recall: 0.7833333333333333\n",
      "Micro Precision: 0.7833333333333333\n",
      "Micro Recall: 0.7833333333333333\n"
     ]
    }
   ],
   "source": [
    "# Calculate confusion matrix\n",
    "\n",
    "confusion_matrix = pd.crosstab(Y_test, Y_pred_classes, rownames=['Actual'], colnames=['Predicted'])\n",
    "sn.heatmap(confusion_matrix, annot=True)\n",
    "plt.show()\n",
    "\n",
    "# Calculate accuracy, precision, and recall\n",
    "accuracy = accuracy_score(Y_test, Y_pred_classes)\n",
    "print(f'Accuracy: {accuracy}')\n",
    "\n",
    "precision_macro = precision_score(Y_test, Y_pred_classes, average='macro')\n",
    "recall_macro = recall_score(Y_test, Y_pred_classes, average='macro')\n",
    "\n",
    "precision_weighted = precision_score(Y_test, Y_pred_classes, average='weighted')\n",
    "recall_weighted = recall_score(Y_test, Y_pred_classes, average='weighted')\n",
    "\n",
    "precision_micro = precision_score(Y_test, Y_pred_classes, average='micro')\n",
    "recall_micro = recall_score(Y_test, Y_pred_classes, average='micro')\n",
    "\n",
    "print(f'Macro Precision: {precision_macro}')\n",
    "print(f'Macro Recall: {recall_macro}')\n",
    "print(f'Weighted Precision: {precision_weighted}')\n",
    "print(f'Weighted Recall: {recall_weighted}')\n",
    "print(f'Micro Precision: {precision_micro}')\n",
    "print(f'Micro Recall: {recall_micro}')"
   ]
  },
  {
   "cell_type": "markdown",
   "id": "c18800a6-f2dc-44f9-bbb9-ab06b2f5a380",
   "metadata": {},
   "source": [
    "Just as before, we can plot the classification and see how it holds up against the testing set. "
   ]
  },
  {
   "cell_type": "code",
   "execution_count": 17,
   "id": "573bf813-4823-4eea-958d-fcbbb15ca93c",
   "metadata": {},
   "outputs": [
    {
     "name": "stderr",
     "output_type": "stream",
     "text": [
      "/Users/ysingh/anaconda3/lib/python3.11/site-packages/sklearn/base.py:464: UserWarning: X does not have valid feature names, but LinearRegression was fitted with feature names\n",
      "  warnings.warn(\n"
     ]
    },
    {
     "data": {
      "image/png": "[encoded data removed]",
      "text/plain": [
       "<Figure size 640x480 with 1 Axes>"
      ]
     },
     "metadata": {},
     "output_type": "display_data"
    }
   ],
   "source": [
    "# Setting up the meshgrid for plotting decision boundaries\n",
    "x1_min, x1_max = data['X1'].min() - 1, data['X1'].max() + 1\n",
    "x2_min, x2_max = data['X2'].min() - 1, data['X2'].max() + 1\n",
    "xx1, xx2 = np.meshgrid(np.linspace(x1_min, x1_max, 500), np.linspace(x2_min, x2_max, 500))\n",
    "\n",
    "# Predict on meshgrid\n",
    "Z = model.predict(np.c_[xx1.ravel(), xx2.ravel()])\n",
    "Z = np.argmax(Z, axis=1).reshape(xx1.shape)\n",
    "\n",
    "# Plot decision boundaries and data points\n",
    "plt.contourf(xx1, xx2, Z, alpha=0.4, levels=np.arange(-0.5, 2.5, 0.5), cmap=plt.cm.jet)\n",
    "plt.scatter(X_test['X1'], X_test['X2'], c=Y_test, edgecolors='k', cmap=plt.cm.jet)\n",
    "plt.title(\"Classification with One-Hot Encoding\")\n",
    "plt.xlabel('X1')\n",
    "plt.ylabel('X2')\n",
    "plt.show()"
   ]
  },
  {
   "cell_type": "markdown",
   "id": "f16e435d-1970-4a4c-b190-33f2618b0623",
   "metadata": {},
   "source": [
    "Notice in the above graph that the decision boundaries are nontrivial. How do we solve for these lines? The concept is the same: we look for cases where classification is ambiguous. This happens when two classes are of equal weight. Remember, we pick the class based on which dimension contains the highest value in the prediction. \n",
    "\n",
    "Below, we compute each linear regression for each category. We then solve for the decision boundary by solve for the cases when the regression lines give rise to an equal value. These lines are them plotted. "
   ]
  },
  {
   "cell_type": "code",
   "execution_count": 8,
   "id": "f36efa0b-46fe-4412-9187-bfbefdfcf6fd",
   "metadata": {},
   "outputs": [
    {
     "name": "stdout",
     "output_type": "stream",
     "text": [
      "0-1 Decision Boundary Coefficients [0.7314482837331956, -0.09583578283056482, -0.010152650912972608]\n",
      "0-2 Decision Boundary Coefficients [1.2647818862701774, -0.17018646667572485, 0.0004996920962561553]\n",
      "1-2 Decision Boundary Coefficients [0.5333336025369818, -0.07435068384516003, 0.010652343009228763]\n"
     ]
    }
   ],
   "source": [
    "A = coef[0].tolist()\n",
    "A.insert(0,intercept[0].tolist())\n",
    "\n",
    "B = coef[1].tolist()\n",
    "B.insert(0,intercept[1].tolist())\n",
    "\n",
    "C = coef[2].tolist()\n",
    "C.insert(0,intercept[2].tolist())\n",
    "\n",
    "def plug_in(lin_fun:list, point:tuple) -> float:\n",
    "    return lin_fun[0] + lin_fun[1]*point[0] + lin_fun[2]*point[1]\n",
    "\n",
    "\n",
    "def decision_boundary(fun1:list, fun2:list) -> list:\n",
    "    return list(map(lambda x, y: x - y, fun1, fun2))\n",
    "\n",
    "ab = decision_boundary(A, B)\n",
    "ac = decision_boundary(A, C)\n",
    "bc = decision_boundary(B, C)\n",
    "\n",
    "print(\"0-1 Decision Boundary Coefficients\", ab)\n",
    "print(\"0-2 Decision Boundary Coefficients\", ac)\n",
    "print(\"1-2 Decision Boundary Coefficients\", bc)"
   ]
  },
  {
   "cell_type": "code",
   "execution_count": 9,
   "id": "68d08062-9c9c-4045-a820-28a2cec28f8a",
   "metadata": {},
   "outputs": [
    {
     "data": {
      "image/png": "[encoded data removed]",
      "text/plain": [
       "<Figure size 800x600 with 1 Axes>"
      ]
     },
     "metadata": {},
     "output_type": "display_data"
    }
   ],
   "source": [
    "# Define the range for X1\n",
    "x1 = np.linspace(0, 15, 400)\n",
    "\n",
    "# Define the equations\n",
    "# Rearranging each equation to solve for X2\n",
    "x2_1 = (ab[1] * x1 + ab[0]) / (-ab[2])\n",
    "x2_2 = (bc[1] * x1 + bc[0]) / (-bc[2])\n",
    "x2_3 = (ac[1] * x1 + ac[0]) / (-ac[2])\n",
    "\n",
    "# Plotting\n",
    "plt.figure(figsize=(8, 6))\n",
    "plt.plot(x1, x2_1, label='0-1 Decision Boundary', color='lime')\n",
    "plt.plot(x1, x2_2, label='0-2 Decision Boundary', color='violet')\n",
    "plt.plot(x1, x2_3, label='1-2 Decision Boundary', color='orange')\n",
    "\n",
    "# Setting X2 axis limits\n",
    "plt.ylim(-1, 11)\n",
    "\n",
    "plt.axhline(0, color='black',linewidth=0.5)\n",
    "plt.axvline(0, color='black',linewidth=0.5)\n",
    "plt.title('Graph of the Decision Boundaries')\n",
    "plt.xlabel('X1')\n",
    "plt.ylabel('X2')\n",
    "plt.legend()\n",
    "plt.grid(True)\n",
    "plt.show()"
   ]
  },
  {
   "cell_type": "markdown",
   "id": "5eb153ed-317c-46cc-8722-fed4046dbd71",
   "metadata": {},
   "source": [
    "There are portions where the lines are irrelevant because they correspond to values lower than a neighboring line. This is why the lines appear in more places than the actual decision boundary of our previous plot. \n",
    "\n",
    "## Remark\n",
    "\n",
    "It is important to note that the model presented here could be improved upon. Why do we know this to be true and what would you do to improve it? "
   ]
  },
  {
   "cell_type": "code",
   "execution_count": null,
   "id": "8853cfd3-ab3e-47c8-a574-31fc702d383a",
   "metadata": {},
   "outputs": [],
   "source": []
  }
 ],
 "metadata": {
  "kernelspec": {
   "display_name": "Python 3 (ipykernel)",
   "language": "python",
   "name": "python3"
  },
  "language_info": {
   "codemirror_mode": {
    "name": "ipython",
    "version": 3
   },
   "file_extension": ".py",
   "mimetype": "text/x-python",
   "name": "python",
   "nbconvert_exporter": "python",
   "pygments_lexer": "ipython3",
   "version": "3.11.5"
  }
 },
 "nbformat": 4,
 "nbformat_minor": 5
}
